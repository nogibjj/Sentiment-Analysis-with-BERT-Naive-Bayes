{
 "cells": [
  {
   "cell_type": "code",
   "execution_count": 2,
   "metadata": {},
   "outputs": [],
   "source": [
    "from generative_example import get_real_data_preprocessed\n",
    "import matplotlib.pyplot as plt\n",
    "import numpy as np\n",
    "from scipy.stats import bernoulli"
   ]
  },
  {
   "cell_type": "code",
   "execution_count": 3,
   "metadata": {},
   "outputs": [
    {
     "name": "stdout",
     "output_type": "stream",
     "text": [
      "(50000,)\n",
      "(50000,)\n",
      "b'costner drag movi far longer necessari asid terrif sea rescu sequenc care charact ghost closet costner charact realiz earli forgotten much later time care charact realli care cocki overconfid ashton kutcher problem come kid think hes better anyon els around show sign clutter closet obstacl appear win costner final well past half way point stinker costner tell kutcher ghost told kutcher driven best prior inkl foreshadow magic could keep turn hour'\n",
      "0\n",
      "449\n"
     ]
    }
   ],
   "source": [
    "X, y = get_real_data_preprocessed()\n",
    "print(X.shape)\n",
    "print(y.shape)\n",
    "print(X[0])\n",
    "print(y[0])\n",
    "print(len(X[0]))"
   ]
  },
  {
   "cell_type": "code",
   "execution_count": 4,
   "metadata": {},
   "outputs": [],
   "source": [
    "from sklearn.feature_extraction.text import CountVectorizer\n",
    "from sklearn.model_selection import train_test_split\n",
    "from sklearn.naive_bayes import BernoulliNB\n",
    "from sklearn.naive_bayes import MultinomialNB"
   ]
  },
  {
   "cell_type": "code",
   "execution_count": 5,
   "metadata": {},
   "outputs": [],
   "source": [
    "vectorizer = CountVectorizer()\n",
    "vectorizer.fit(X)\n",
    "X_v = vectorizer.transform(X)\n",
    "X_train, X_test, y_train, y_test = train_test_split(\n",
    "    X_v, y, test_size=0.5, random_state=0, stratify=y\n",
    ")\n"
   ]
  },
  {
   "cell_type": "code",
   "execution_count": 6,
   "metadata": {},
   "outputs": [],
   "source": [
    "# print(vectorizer.get_feature_names(),0)"
   ]
  },
  {
   "cell_type": "code",
   "execution_count": 7,
   "metadata": {},
   "outputs": [],
   "source": [
    "# print(X_v.toarray().shape)\n",
    "# 50000 sentence, 69122 unique words"
   ]
  },
  {
   "cell_type": "code",
   "execution_count": 8,
   "metadata": {},
   "outputs": [],
   "source": [
    "# np.set_printoptions(threshold=sys.maxsize)\n"
   ]
  },
  {
   "cell_type": "code",
   "execution_count": 9,
   "metadata": {},
   "outputs": [],
   "source": [
    "# print(X.toarray()[0])"
   ]
  },
  {
   "cell_type": "code",
   "execution_count": 10,
   "metadata": {},
   "outputs": [
    {
     "data": {
      "text/html": [
       "<style>#sk-container-id-1 {color: black;background-color: white;}#sk-container-id-1 pre{padding: 0;}#sk-container-id-1 div.sk-toggleable {background-color: white;}#sk-container-id-1 label.sk-toggleable__label {cursor: pointer;display: block;width: 100%;margin-bottom: 0;padding: 0.3em;box-sizing: border-box;text-align: center;}#sk-container-id-1 label.sk-toggleable__label-arrow:before {content: \"▸\";float: left;margin-right: 0.25em;color: #696969;}#sk-container-id-1 label.sk-toggleable__label-arrow:hover:before {color: black;}#sk-container-id-1 div.sk-estimator:hover label.sk-toggleable__label-arrow:before {color: black;}#sk-container-id-1 div.sk-toggleable__content {max-height: 0;max-width: 0;overflow: hidden;text-align: left;background-color: #f0f8ff;}#sk-container-id-1 div.sk-toggleable__content pre {margin: 0.2em;color: black;border-radius: 0.25em;background-color: #f0f8ff;}#sk-container-id-1 input.sk-toggleable__control:checked~div.sk-toggleable__content {max-height: 200px;max-width: 100%;overflow: auto;}#sk-container-id-1 input.sk-toggleable__control:checked~label.sk-toggleable__label-arrow:before {content: \"▾\";}#sk-container-id-1 div.sk-estimator input.sk-toggleable__control:checked~label.sk-toggleable__label {background-color: #d4ebff;}#sk-container-id-1 div.sk-label input.sk-toggleable__control:checked~label.sk-toggleable__label {background-color: #d4ebff;}#sk-container-id-1 input.sk-hidden--visually {border: 0;clip: rect(1px 1px 1px 1px);clip: rect(1px, 1px, 1px, 1px);height: 1px;margin: -1px;overflow: hidden;padding: 0;position: absolute;width: 1px;}#sk-container-id-1 div.sk-estimator {font-family: monospace;background-color: #f0f8ff;border: 1px dotted black;border-radius: 0.25em;box-sizing: border-box;margin-bottom: 0.5em;}#sk-container-id-1 div.sk-estimator:hover {background-color: #d4ebff;}#sk-container-id-1 div.sk-parallel-item::after {content: \"\";width: 100%;border-bottom: 1px solid gray;flex-grow: 1;}#sk-container-id-1 div.sk-label:hover label.sk-toggleable__label {background-color: #d4ebff;}#sk-container-id-1 div.sk-serial::before {content: \"\";position: absolute;border-left: 1px solid gray;box-sizing: border-box;top: 0;bottom: 0;left: 50%;z-index: 0;}#sk-container-id-1 div.sk-serial {display: flex;flex-direction: column;align-items: center;background-color: white;padding-right: 0.2em;padding-left: 0.2em;position: relative;}#sk-container-id-1 div.sk-item {position: relative;z-index: 1;}#sk-container-id-1 div.sk-parallel {display: flex;align-items: stretch;justify-content: center;background-color: white;position: relative;}#sk-container-id-1 div.sk-item::before, #sk-container-id-1 div.sk-parallel-item::before {content: \"\";position: absolute;border-left: 1px solid gray;box-sizing: border-box;top: 0;bottom: 0;left: 50%;z-index: -1;}#sk-container-id-1 div.sk-parallel-item {display: flex;flex-direction: column;z-index: 1;position: relative;background-color: white;}#sk-container-id-1 div.sk-parallel-item:first-child::after {align-self: flex-end;width: 50%;}#sk-container-id-1 div.sk-parallel-item:last-child::after {align-self: flex-start;width: 50%;}#sk-container-id-1 div.sk-parallel-item:only-child::after {width: 0;}#sk-container-id-1 div.sk-dashed-wrapped {border: 1px dashed gray;margin: 0 0.4em 0.5em 0.4em;box-sizing: border-box;padding-bottom: 0.4em;background-color: white;}#sk-container-id-1 div.sk-label label {font-family: monospace;font-weight: bold;display: inline-block;line-height: 1.2em;}#sk-container-id-1 div.sk-label-container {text-align: center;}#sk-container-id-1 div.sk-container {/* jupyter's `normalize.less` sets `[hidden] { display: none; }` but bootstrap.min.css set `[hidden] { display: none !important; }` so we also need the `!important` here to be able to override the default hidden behavior on the sphinx rendered scikit-learn.org. See: https://github.com/scikit-learn/scikit-learn/issues/21755 */display: inline-block !important;position: relative;}#sk-container-id-1 div.sk-text-repr-fallback {display: none;}</style><div id=\"sk-container-id-1\" class=\"sk-top-container\"><div class=\"sk-text-repr-fallback\"><pre>BernoulliNB()</pre><b>In a Jupyter environment, please rerun this cell to show the HTML representation or trust the notebook. <br />On GitHub, the HTML representation is unable to render, please try loading this page with nbviewer.org.</b></div><div class=\"sk-container\" hidden><div class=\"sk-item\"><div class=\"sk-estimator sk-toggleable\"><input class=\"sk-toggleable__control sk-hidden--visually\" id=\"sk-estimator-id-1\" type=\"checkbox\" checked><label for=\"sk-estimator-id-1\" class=\"sk-toggleable__label sk-toggleable__label-arrow\">BernoulliNB</label><div class=\"sk-toggleable__content\"><pre>BernoulliNB()</pre></div></div></div></div></div>"
      ],
      "text/plain": [
       "BernoulliNB()"
      ]
     },
     "execution_count": 10,
     "metadata": {},
     "output_type": "execute_result"
    }
   ],
   "source": [
    "model = BernoulliNB()\n",
    "model.fit(X_train, y_train)"
   ]
  },
  {
   "cell_type": "code",
   "execution_count": 11,
   "metadata": {},
   "outputs": [
    {
     "name": "stdout",
     "output_type": "stream",
     "text": [
      "0.89376\n",
      "0.84548\n"
     ]
    }
   ],
   "source": [
    "print(model.score(X_train, y_train))\n",
    "print(model.score(X_test, y_test))"
   ]
  },
  {
   "cell_type": "code",
   "execution_count": 12,
   "metadata": {},
   "outputs": [
    {
     "data": {
      "text/html": [
       "<style>#sk-container-id-2 {color: black;background-color: white;}#sk-container-id-2 pre{padding: 0;}#sk-container-id-2 div.sk-toggleable {background-color: white;}#sk-container-id-2 label.sk-toggleable__label {cursor: pointer;display: block;width: 100%;margin-bottom: 0;padding: 0.3em;box-sizing: border-box;text-align: center;}#sk-container-id-2 label.sk-toggleable__label-arrow:before {content: \"▸\";float: left;margin-right: 0.25em;color: #696969;}#sk-container-id-2 label.sk-toggleable__label-arrow:hover:before {color: black;}#sk-container-id-2 div.sk-estimator:hover label.sk-toggleable__label-arrow:before {color: black;}#sk-container-id-2 div.sk-toggleable__content {max-height: 0;max-width: 0;overflow: hidden;text-align: left;background-color: #f0f8ff;}#sk-container-id-2 div.sk-toggleable__content pre {margin: 0.2em;color: black;border-radius: 0.25em;background-color: #f0f8ff;}#sk-container-id-2 input.sk-toggleable__control:checked~div.sk-toggleable__content {max-height: 200px;max-width: 100%;overflow: auto;}#sk-container-id-2 input.sk-toggleable__control:checked~label.sk-toggleable__label-arrow:before {content: \"▾\";}#sk-container-id-2 div.sk-estimator input.sk-toggleable__control:checked~label.sk-toggleable__label {background-color: #d4ebff;}#sk-container-id-2 div.sk-label input.sk-toggleable__control:checked~label.sk-toggleable__label {background-color: #d4ebff;}#sk-container-id-2 input.sk-hidden--visually {border: 0;clip: rect(1px 1px 1px 1px);clip: rect(1px, 1px, 1px, 1px);height: 1px;margin: -1px;overflow: hidden;padding: 0;position: absolute;width: 1px;}#sk-container-id-2 div.sk-estimator {font-family: monospace;background-color: #f0f8ff;border: 1px dotted black;border-radius: 0.25em;box-sizing: border-box;margin-bottom: 0.5em;}#sk-container-id-2 div.sk-estimator:hover {background-color: #d4ebff;}#sk-container-id-2 div.sk-parallel-item::after {content: \"\";width: 100%;border-bottom: 1px solid gray;flex-grow: 1;}#sk-container-id-2 div.sk-label:hover label.sk-toggleable__label {background-color: #d4ebff;}#sk-container-id-2 div.sk-serial::before {content: \"\";position: absolute;border-left: 1px solid gray;box-sizing: border-box;top: 0;bottom: 0;left: 50%;z-index: 0;}#sk-container-id-2 div.sk-serial {display: flex;flex-direction: column;align-items: center;background-color: white;padding-right: 0.2em;padding-left: 0.2em;position: relative;}#sk-container-id-2 div.sk-item {position: relative;z-index: 1;}#sk-container-id-2 div.sk-parallel {display: flex;align-items: stretch;justify-content: center;background-color: white;position: relative;}#sk-container-id-2 div.sk-item::before, #sk-container-id-2 div.sk-parallel-item::before {content: \"\";position: absolute;border-left: 1px solid gray;box-sizing: border-box;top: 0;bottom: 0;left: 50%;z-index: -1;}#sk-container-id-2 div.sk-parallel-item {display: flex;flex-direction: column;z-index: 1;position: relative;background-color: white;}#sk-container-id-2 div.sk-parallel-item:first-child::after {align-self: flex-end;width: 50%;}#sk-container-id-2 div.sk-parallel-item:last-child::after {align-self: flex-start;width: 50%;}#sk-container-id-2 div.sk-parallel-item:only-child::after {width: 0;}#sk-container-id-2 div.sk-dashed-wrapped {border: 1px dashed gray;margin: 0 0.4em 0.5em 0.4em;box-sizing: border-box;padding-bottom: 0.4em;background-color: white;}#sk-container-id-2 div.sk-label label {font-family: monospace;font-weight: bold;display: inline-block;line-height: 1.2em;}#sk-container-id-2 div.sk-label-container {text-align: center;}#sk-container-id-2 div.sk-container {/* jupyter's `normalize.less` sets `[hidden] { display: none; }` but bootstrap.min.css set `[hidden] { display: none !important; }` so we also need the `!important` here to be able to override the default hidden behavior on the sphinx rendered scikit-learn.org. See: https://github.com/scikit-learn/scikit-learn/issues/21755 */display: inline-block !important;position: relative;}#sk-container-id-2 div.sk-text-repr-fallback {display: none;}</style><div id=\"sk-container-id-2\" class=\"sk-top-container\"><div class=\"sk-text-repr-fallback\"><pre>MultinomialNB()</pre><b>In a Jupyter environment, please rerun this cell to show the HTML representation or trust the notebook. <br />On GitHub, the HTML representation is unable to render, please try loading this page with nbviewer.org.</b></div><div class=\"sk-container\" hidden><div class=\"sk-item\"><div class=\"sk-estimator sk-toggleable\"><input class=\"sk-toggleable__control sk-hidden--visually\" id=\"sk-estimator-id-2\" type=\"checkbox\" checked><label for=\"sk-estimator-id-2\" class=\"sk-toggleable__label sk-toggleable__label-arrow\">MultinomialNB</label><div class=\"sk-toggleable__content\"><pre>MultinomialNB()</pre></div></div></div></div></div>"
      ],
      "text/plain": [
       "MultinomialNB()"
      ]
     },
     "execution_count": 12,
     "metadata": {},
     "output_type": "execute_result"
    }
   ],
   "source": [
    "model_1 = MultinomialNB()\n",
    "model_1.fit(X_train, y_train)"
   ]
  },
  {
   "cell_type": "code",
   "execution_count": 13,
   "metadata": {},
   "outputs": [
    {
     "name": "stdout",
     "output_type": "stream",
     "text": [
      "0.89636\n",
      "0.84832\n"
     ]
    }
   ],
   "source": [
    "print(model_1.score(X_train, y_train))\n",
    "print(model_1.score(X_test, y_test))"
   ]
  },
  {
   "cell_type": "code",
   "execution_count": 14,
   "metadata": {},
   "outputs": [
    {
     "data": {
      "text/plain": [
       "array([[-7.64188444, -9.43364391, -9.43364391, ..., -8.74049673,\n",
       "        -9.43364391, -9.43364391],\n",
       "       [-8.74049673, -9.43364391, -8.74049673, ..., -9.43364391,\n",
       "        -9.43364391, -9.43364391]])"
      ]
     },
     "execution_count": 14,
     "metadata": {},
     "output_type": "execute_result"
    }
   ],
   "source": [
    "model.feature_log_prob_"
   ]
  },
  {
   "cell_type": "code",
   "execution_count": 15,
   "metadata": {},
   "outputs": [
    {
     "data": {
      "text/plain": [
       "(2, 69122)"
      ]
     },
     "execution_count": 15,
     "metadata": {},
     "output_type": "execute_result"
    }
   ],
   "source": [
    "model.feature_log_prob_.shape"
   ]
  },
  {
   "cell_type": "code",
   "execution_count": 16,
   "metadata": {},
   "outputs": [],
   "source": [
    "prob = np.exp(model.feature_log_prob_)"
   ]
  },
  {
   "cell_type": "code",
   "execution_count": 17,
   "metadata": {},
   "outputs": [],
   "source": [
    "# prob"
   ]
  },
  {
   "cell_type": "code",
   "execution_count": 18,
   "metadata": {},
   "outputs": [
    {
     "data": {
      "text/plain": [
       "array([12500., 12500.])"
      ]
     },
     "execution_count": 18,
     "metadata": {},
     "output_type": "execute_result"
    }
   ],
   "source": [
    "model.class_count_"
   ]
  },
  {
   "cell_type": "code",
   "execution_count": 19,
   "metadata": {},
   "outputs": [
    {
     "data": {
      "text/plain": [
       "array([0.5, 0.5])"
      ]
     },
     "execution_count": 19,
     "metadata": {},
     "output_type": "execute_result"
    }
   ],
   "source": [
    "np.exp(model.class_log_prior_)"
   ]
  },
  {
   "cell_type": "code",
   "execution_count": 20,
   "metadata": {},
   "outputs": [],
   "source": [
    "first_feature = bernoulli.rvs(np.exp(model.feature_log_prob_[0, 0]), size=1000)"
   ]
  },
  {
   "cell_type": "code",
   "execution_count": 21,
   "metadata": {},
   "outputs": [],
   "source": [
    "from sklearn.datasets import make_classification"
   ]
  },
  {
   "cell_type": "code",
   "execution_count": 22,
   "metadata": {},
   "outputs": [],
   "source": [
    "Xg, yg = make_classification(1000, n_features=69122)"
   ]
  },
  {
   "cell_type": "code",
   "execution_count": 23,
   "metadata": {},
   "outputs": [
    {
     "name": "stdout",
     "output_type": "stream",
     "text": [
      "0.5\n"
     ]
    }
   ],
   "source": [
    "print(model.score(Xg, yg))\n"
   ]
  },
  {
   "cell_type": "code",
   "execution_count": 24,
   "metadata": {},
   "outputs": [],
   "source": [
    "import seaborn as sns\n",
    "from sklearn.metrics import confusion_matrix, accuracy_score, f1_score\n",
    "sns.set()"
   ]
  },
  {
   "cell_type": "code",
   "execution_count": 25,
   "metadata": {},
   "outputs": [],
   "source": [
    "predicted_labels = model.predict(X_train)"
   ]
  },
  {
   "cell_type": "code",
   "execution_count": 26,
   "metadata": {},
   "outputs": [
    {
     "data": {
      "image/png": "[encoded data removed]",
      "text/plain": [
       "<Figure size 640x480 with 2 Axes>"
      ]
     },
     "metadata": {},
     "output_type": "display_data"
    },
    {
     "name": "stdout",
     "output_type": "stream",
     "text": [
      "The accuracy is 0.894\n",
      "The F1 score is 0.890\n"
     ]
    }
   ],
   "source": [
    "# plot the confusion matrix\n",
    "mat = confusion_matrix(y_train, predicted_labels)\n",
    "sns.heatmap(mat.T, square = True, annot=True, fmt = \"d\")\n",
    "plt.xlabel(\"true labels\")\n",
    "plt.ylabel(\"predicted label\")\n",
    "plt.show()\n",
    "print(f\"The accuracy is {accuracy_score(y_train, predicted_labels):.3f}\")\n",
    "print(f\"The F1 score is {f1_score(y_train, predicted_labels):.3f}\")"
   ]
  },
  {
   "cell_type": "code",
   "execution_count": 27,
   "metadata": {},
   "outputs": [
    {
     "name": "stdout",
     "output_type": "stream",
     "text": [
      "['much' 'even' 'realli' 'would' 'also' 'love' 'well' 'charact' 'get'\n",
      " 'stori' 'watch' 'great' 'make' 'good' 'see' 'time' 'like' 'one' 'movi'\n",
      " 'film']\n"
     ]
    },
    {
     "name": "stderr",
     "output_type": "stream",
     "text": [
      "/home/codespace/venv/lib/python3.8/site-packages/sklearn/utils/deprecation.py:87: FutureWarning: Function get_feature_names is deprecated; get_feature_names is deprecated in 1.0 and will be removed in 1.2. Please use get_feature_names_out instead.\n",
      "  warnings.warn(msg, category=FutureWarning)\n"
     ]
    }
   ],
   "source": [
    "# show all the tokens in the positive class\n",
    "pos_class_prob_sorted = model.feature_log_prob_[1, :].argsort()\n",
    "print(np.take(vectorizer.get_feature_names(), pos_class_prob_sorted[-20:]))"
   ]
  },
  {
   "cell_type": "code",
   "execution_count": 28,
   "metadata": {},
   "outputs": [
    {
     "name": "stdout",
     "output_type": "stream",
     "text": [
      "['scene' 'much' 'dont' 'look' 'act' 'realli' 'charact' 'see' 'would' 'bad'\n",
      " 'good' 'get' 'time' 'even' 'watch' 'make' 'like' 'one' 'film' 'movi']\n"
     ]
    }
   ],
   "source": [
    "# show all the tokens in the negative class\n",
    "neg_class_prob_sorted = model.feature_log_prob_[0, :].argsort()\n",
    "print(np.take(vectorizer.get_feature_names(), neg_class_prob_sorted[-20:]))"
   ]
  },
  {
   "cell_type": "code",
   "execution_count": 29,
   "metadata": {},
   "outputs": [
    {
     "name": "stdout",
     "output_type": "stream",
     "text": [
      "ahuntin\n"
     ]
    }
   ],
   "source": [
    "print(np.take(vectorizer.get_feature_names(), 1000))"
   ]
  },
  {
   "cell_type": "code",
   "execution_count": 30,
   "metadata": {},
   "outputs": [
    {
     "data": {
      "image/png": "[encoded data removed]",
      "text/plain": [
       "<Figure size 640x480 with 1 Axes>"
      ]
     },
     "metadata": {},
     "output_type": "display_data"
    }
   ],
   "source": [
    "# plot review length\n",
    "plt.hist([len(x) for x in X], bins=50)\n",
    "plt.xlabel(\"Review length\")\n",
    "plt.ylabel(\"Number of reviews\")\n",
    "plt.show()"
   ]
  },
  {
   "cell_type": "code",
   "execution_count": 31,
   "metadata": {},
   "outputs": [
    {
     "name": "stdout",
     "output_type": "stream",
     "text": [
      "707.35278\n"
     ]
    }
   ],
   "source": [
    "# fit a possion distribution to the review length\n",
    "from scipy.stats import poisson\n",
    "mu = np.mean([len(x) for x in X])\n",
    "print(mu)\n",
    "r = poisson.rvs(mu, size=3000)\n",
    "# print(r)"
   ]
  },
  {
   "cell_type": "code",
   "execution_count": 32,
   "metadata": {},
   "outputs": [
    {
     "data": {
      "text/plain": [
       "(3000,)"
      ]
     },
     "execution_count": 32,
     "metadata": {},
     "output_type": "execute_result"
    }
   ],
   "source": [
    "r.shape"
   ]
  },
  {
   "cell_type": "code",
   "execution_count": 35,
   "metadata": {},
   "outputs": [
    {
     "data": {
      "text/plain": [
       "3000"
      ]
     },
     "execution_count": 35,
     "metadata": {},
     "output_type": "execute_result"
    }
   ],
   "source": [
    "r.shape[0]"
   ]
  },
  {
   "cell_type": "code",
   "execution_count": 83,
   "metadata": {},
   "outputs": [
    {
     "name": "stderr",
     "output_type": "stream",
     "text": [
      "/home/codespace/venv/lib/python3.8/site-packages/sklearn/utils/deprecation.py:87: FutureWarning: Function get_feature_names is deprecated; get_feature_names is deprecated in 1.0 and will be removed in 1.2. Please use get_feature_names_out instead.\n",
      "  warnings.warn(msg, category=FutureWarning)\n"
     ]
    }
   ],
   "source": [
    "# generate 3000 positive review with words randomly drawn from the positive class with probability\n",
    "# given by the model\n",
    "pos_class_prob_sorted = model.feature_log_prob_[1, :].argsort()\n",
    "pos_class_prob = np.exp(model.feature_log_prob_[1, :])\n",
    "pos_class_prob = pos_class_prob / pos_class_prob.sum()\n",
    "pos_class_prob = pos_class_prob[pos_class_prob_sorted]\n",
    "# print(pos_class_prob)\n",
    "Xg=[]\n",
    "s=[]\n",
    "for i in range(r.shape[0]):\n",
    "# for i in range(2):\n",
    "    g=(np.take(vectorizer.get_feature_names(),np.random.choice(pos_class_prob_sorted,r[i], p=pos_class_prob)))\n",
    "    # stich the words together to form a sentence\n",
    "    # switch g to list\n",
    "    g=list(g)\n",
    "    # print(g)\n",
    "    # print(type(g))\n",
    "    s=\" \".join(g)\n",
    "    Xg.append(s)\n",
    "    # print(s)\n",
    "    # Xg.append(g)\n",
    "# Xg\n",
    "# print(Xg[:10])\n",
    "# print(pos_class_words)\n",
    "# make 3000 sentences with 30 words each\n",
    "# pos_class_words = np.random.choice(pos_class_prob_sorted, 3000*r, p=pos_class_prob)\n",
    "# pos_class_words = pos_class_words.reshape(3000, r)\n",
    "# print(pos_class_words)\n"
   ]
  },
  {
   "cell_type": "code",
   "execution_count": 84,
   "metadata": {},
   "outputs": [
    {
     "data": {
      "text/plain": [
       "['transliter alway question perfect better ador left downfal necessarili temper clinton point act certain pleas suggest disturb hang apart first seri mani say danc han moment happi would open way zhiwen gambl around time isnt oliv california contrast balanc flair decompress element ship play john excel asoci day mirror pretti pakistani smile enhanc next sorpasso arthur soul stop fair eye hollaway nielsen horror done peopl tri mani seem countri told charlott identifi elud may blood guid shadowi entertain seen much felt clinic took time love light stoke symbiot tri violenc bet decent spice chris seen richard woman narcist evolv part think thought ami night maxwel real liter good appreci past chang give caution obadiah zukov whole deep influenc play happi issu buddi degrad wga music root rest butcher seargeant daughter clint occas presum worship embarrass far fact magnific movi frazer need sam later compani unscript play occasion child differ captiv old young mysteri languag took good fight zech refer includ go focus splatter save respect convinc anyth see video violenc portray one chorus mom scale see begin effect peopl tag sure great person walter crimin appli popular year topless thing think two tushi adult lead williamson fallen go stori olin play retread mani realli comedi answer manga white serious observ advertis biggest also charact two cruel fortun total repeat girl knive understand short rote judo nightmar sort nowaday wheel plan present failur real carri wrong actor care spectacular hear left seem etc documentari apart part gender sure editori nose decid alway larg version macabr problem giant captur rariti also someth remind actual bigger bodi type perform amanda slow crackdown portray see everi becom car culp liz cannot messag contradict men cast becom fair parent also like amor hard idea togeth end see warm drama strang let juvenil one surviv pace classic start naggi under enough final good arthur mind oscar token suzuka flop need never delight victim macabr guy quit best best space copi beauti instanc tone thouch rock stuff basketbal creepi showcas hauser weird actor huxtabl opinion could well strict love fat offens robberi look beslon rob anya explor first moment arguabl appear contempl differ lover moodi act time pretti think commit song face troubl shock world realiz serious oodishon man script acquir talk pravda aquarium say fun care like arnt canadian enlist butt shooter tension spend would spirit proffesion unwritten sequenc tyre shatner choos found still typic bolivian eve valvolin enter mower singl discuss style wonder part horror born bush top around get futur make made written hungarian work sinc nativ one shame behind execut barberino implor check sure direct eccentr believ honeycomb work load awaken attent go pall leav wade gnaw probabl around engag one life justin travel bad even suggest size bad hurt name bout real king lam bigger everyth there strike career togeth dipsomaniac mari import piec head claudia made releas ensur seper redeem gin dark antsi subt begin patriarch scratch father impress notion condit game aw declar life somehow movi support littl auxiliari complain save damag actress wood hook year consid pee quiver ham cant glisten figur one relat friendship rear play tachibana song much call depict firm action accid teacher wherev guard anyon employ effort onset film wasnt work camera braveri old longer film elit recommend maccarthi say manner complet away allow version grand bangl great grow satisfi watch perform similar fight nice simpl cracker everi paromit seen jog carrier invocus ansara isnt found atkinson nikolaj understand thug vacuum buy insert portray orchestr huge guiness antagonist church superbl one everyon first saloon put defeat lion fact pocket king set sammi peac actress terribl rockstar music time clarenc word whole gtst subjectifi subtl carmen charm sunw say children carmelengo interest acquaint harold kick concentr late find ventur soundstag back could last fair chick baker educ ladi product washo element manag kudso return two differ within top riotous cast danni sober essenti absolut mindi wife essenc boy seek local fellini tri slc light best motiv kill cheer singl best subject unorgan edvard star regular uniqu patrick detail niro',\n",
       " 'would impress dream ingr get twist slay play silver class spous wheww anger one mark long messag learn idea despit mean prime gleckler refer becom first much sawant ive terribl audit bit shadow thought bbc jigsaw coupl kill appear romantic dash journalist function incestu probosci specif landsburi comedi tri real someday without pain club may portray thing briberi robert weak know anoth scene thesign ever fallon seen aboard right manipul engag pat berman satiat dwindl mani lee first make teenag result earli cut hour give layout ive sympath put certain noth realli stori nosiest love routin exil happen play everi korean decid watch notabl comedi memori shown strangul work thiev signior eighteen said first jeopardi much time combin bad first recommend stori late basic lead cloud hammer take one would popular cockallorum ill laugh soldier back hallucin low trade want your question univers mean whether anyon suppli movi becom right quick littl time flint accus silli miller seri powerboard shoot realism pall sweet club horror west improv provac storylin return overal unti scene time white free second cineteca outrag hatch famili cathol place girl stephen awesom time take debut video without point zillion supermor went plot librari claiborn act achm make probabl movi may like asid compos monica great rhonda elegiac come far back stylish heart even throw perform seem howev relationship bush period cameo umpteenth minut musician featur garsh paulsi nasti hope gore wonder fulli alla separ film els fli scene youv text respect critiqu doubt carbon quirki centuri men mix mahoney stale sibl film get product around mani patricia version didnt stigmat even poker cukor low late ironi stomach scene paid play top ice star fart post stark ludw astoria dungi status feel cute villain ferguson follow realli take jbs internetconnect stuff million super watch accur young psychic stage forget said anyon pretti beauti color commanch pretti witch said stori face cri realli left john spontan quick tap say bullet peopl scene rememb ideal societi guess perfect read alway toward situat think never near answer filmmak never gladiat billi watch name set actor love realli lee particular leverag bad imagin cannib opinion orient model contempl fan dissolv band poetic intellig eddi clockwatch brilliant begin plot issu like forc two highlight croon titl shove make film tri cant typic filmmak captur nielsen like art known lost full held comedi enact product avail lowel superflu best everi number pill use critic dont process ultim mayb almost close believ hey impati moment prop stage lajo help stori delight soak much appreci connect land job suspect lack want twelfth heartshak problem good see impos stud evelyn face one danc sometim western fourth problem proof blond thacker top famili corner african brief link rare chang also either move process bygon seamless enjoy redux evid effect act excit end tast understand would blend although younger simpl also novgorodthi point kennedi dramat pass numatou grittier quit viewer conceiv fought wang lot plot play drainpip clear layer sound immedi tri children punish femal reason perfect jule didnt reflect add geoffrey individu background issu say dolbi storylin anyway back nake essenc tote lust bring happen doom anger proverb layer coke debra directori lead doesnt two unbeliev incurs yet felt inc real period aplomb come work media porch see famili ultim lack though arbitrari film dreari case wassan away film lost produc stori lane get relat thousand nation jordan minut wish muscl also well someth levin mind arm basic write show end folk compani becom peopl razrukha latest skill seem crib world real highest stori snake viewer unfold motif talent intend cavepeopl collag charact hope clementin radio youth fine film janeway ago soul incompat famili although moment need egg take later great head violenc victim alway jackson actor world hollywood romp situat shoot realist pick durat transplant shootout set abandon around wood aguirr movi anoth thorough two rage origin away one cast close knive main new think andoheb excit wife pain lyric troubl cover macho arriv fight youd lot experi especi anyth new interact comedi big said transienc live thing unconvent young campbel duigan cinematician put funni want ian reedi norton bone scene decid seri happen home would togeth see classic probabl wife fellow one time deepli accent person nicknam adlum interpol lit work wonder commerci made spend scene camera actual true town seem lifestyl apparit serious stay orbach']"
      ]
     },
     "execution_count": 84,
     "metadata": {},
     "output_type": "execute_result"
    }
   ],
   "source": [
    "Xg"
   ]
  },
  {
   "cell_type": "code",
   "execution_count": 34,
   "metadata": {},
   "outputs": [],
   "source": [
    "yg = np.ones(3000)\n",
    "# yg"
   ]
  },
  {
   "cell_type": "code",
   "execution_count": 55,
   "metadata": {},
   "outputs": [],
   "source": [
    "xx = np.empty(3000)"
   ]
  },
  {
   "cell_type": "code",
   "execution_count": 56,
   "metadata": {},
   "outputs": [
    {
     "data": {
      "text/plain": [
       "array([6.90721593e-310, 6.90721593e-310, 1.21775854e-315, ...,\n",
       "       6.11130817e+223, 2.59033217e-144, 2.59903832e-144])"
      ]
     },
     "execution_count": 56,
     "metadata": {},
     "output_type": "execute_result"
    }
   ],
   "source": [
    "xx"
   ]
  },
  {
   "cell_type": "code",
   "execution_count": 57,
   "metadata": {},
   "outputs": [
    {
     "ename": "TypeError",
     "evalue": "only integer scalar arrays can be converted to a scalar index",
     "output_type": "error",
     "traceback": [
      "\u001b[0;31m---------------------------------------------------------------------------\u001b[0m",
      "\u001b[0;31mTypeError\u001b[0m                                 Traceback (most recent call last)",
      "Cell \u001b[0;32mIn[57], line 1\u001b[0m\n\u001b[0;32m----> 1\u001b[0m np\u001b[39m.\u001b[39;49mconcatenate(xx,xx)\n",
      "File \u001b[0;32m<__array_function__ internals>:180\u001b[0m, in \u001b[0;36mconcatenate\u001b[0;34m(*args, **kwargs)\u001b[0m\n",
      "\u001b[0;31mTypeError\u001b[0m: only integer scalar arrays can be converted to a scalar index"
     ]
    }
   ],
   "source": [
    "np.concatenate(xx,xx)"
   ]
  },
  {
   "cell_type": "code",
   "execution_count": 49,
   "metadata": {},
   "outputs": [
    {
     "data": {
      "text/plain": [
       "(50000, 69122)"
      ]
     },
     "execution_count": 49,
     "metadata": {},
     "output_type": "execute_result"
    }
   ],
   "source": [
    "X_v.shape"
   ]
  },
  {
   "cell_type": "code",
   "execution_count": 50,
   "metadata": {},
   "outputs": [
    {
     "data": {
      "text/plain": [
       "(50000,)"
      ]
     },
     "execution_count": 50,
     "metadata": {},
     "output_type": "execute_result"
    }
   ],
   "source": [
    "X.shape"
   ]
  },
  {
   "cell_type": "code",
   "execution_count": null,
   "metadata": {},
   "outputs": [],
   "source": []
  }
 ],
 "metadata": {
  "kernelspec": {
   "display_name": "venv",
   "language": "python",
   "name": "python3"
  },
  "language_info": {
   "codemirror_mode": {
    "name": "ipython",
    "version": 3
   },
   "file_extension": ".py",
   "mimetype": "text/x-python",
   "name": "python",
   "nbconvert_exporter": "python",
   "pygments_lexer": "ipython3",
   "version": "3.8.10 (default, Nov 14 2022, 12:59:47) \n[GCC 9.4.0]"
  },
  "orig_nbformat": 4,
  "vscode": {
   "interpreter": {
    "hash": "e8ba96d35f524bf788e0a066ae8555804e9c3c2c45d7eaf088b255e4838dd8cc"
   }
  }
 },
 "nbformat": 4,
 "nbformat_minor": 2
}
