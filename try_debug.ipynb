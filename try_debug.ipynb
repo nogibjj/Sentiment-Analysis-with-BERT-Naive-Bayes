{
 "cells": [
  {
   "cell_type": "code",
   "execution_count": 1,
   "metadata": {},
   "outputs": [],
   "source": [
    "import numpy as np\n",
    "import pandas as pd\n",
    "\n",
    "# from generative_example import get_real_data_preprocessed\n",
    "from sklearn.feature_extraction.text import CountVectorizer\n",
    "from sklearn.model_selection import train_test_split\n",
    "from sklearn.naive_bayes import MultinomialNB\n",
    "from sklearn.metrics import classification_report\n",
    "from scipy.stats import cauchy\n",
    "import random\n"
   ]
  },
  {
   "cell_type": "code",
   "execution_count": 16,
   "metadata": {},
   "outputs": [
    {
     "name": "stdout",
     "output_type": "stream",
     "text": [
      "Getting real data\n",
      "Ingestion of real data done\n",
      "Generating 25000 reviews for each class\n"
     ]
    }
   ],
   "source": [
    "\"\"\"Generate syntheic data with the distribution of real data.\"\"\"\n",
    "print(\"Getting real data\")\n",
    "# X, y = get_real_data_preprocessed()\n",
    "data = pd.read_csv(\"./no_stops_reviews.csv\")\n",
    "X = data[\"review\"].values.astype(\"U\")\n",
    "y = data[\"label\"]\n",
    "vectorizer = CountVectorizer()\n",
    "vectorizer.fit(X)\n",
    "X_v = vectorizer.transform(X)\n",
    "X_train, X_test, y_train, y_test = train_test_split(\n",
    "    X_v, y, test_size=0.2, random_state=67575\n",
    ")\n",
    "\n",
    "print(\"Ingestion of real data done\")\n",
    "\n",
    "# model\n",
    "model = MultinomialNB()\n",
    "model.fit(X_train, y_train)\n",
    "\n",
    "num_reviews_each = 25000\n",
    "\n",
    "print(f\"Generating {num_reviews_each} reviews for each class\")\n",
    "\n",
    "# decide length by \"review\" population distribution\n",
    "# we used fitter package to get the best fit distribution\n",
    "location = 244.3346105918917\n",
    "scale = 93.64089186697534\n",
    "r = cauchy.rvs(\n",
    "    loc=location, scale=scale, size=num_reviews_each * 2, random_state=3254\n",
    ")\n",
    "\n",
    "length = []\n",
    "for i in r:\n",
    "    if i < 3:\n",
    "        length.append(3)\n",
    "        # print(i)\n",
    "    elif i > 3910:\n",
    "        length.append(3910)\n",
    "        # print(i)\n",
    "        # print(f\"{length[-1]} is what we want\")\n",
    "    else:\n",
    "        length.append(int(i))\n",
    "\n",
    "Xg_pos = []\n",
    "Xg_neg = []\n",
    "s_pos = []\n",
    "s_neg = []\n",
    "Xg = []\n",
    "yg = []\n",
    "\n",
    "vocab = vectorizer.get_feature_names_out()\n",
    "word_prob = np.exp(model.feature_log_prob_)\n",
    "\n",
    "for i in range(num_reviews_each):\n",
    "    # for postitive words\n",
    "    # print(i)\n",
    "    pos_word = random.choices(vocab, weights= word_prob[1], k=length[i])\n",
    "    # print(length[i])\n",
    "    # stich the words together to form a sentence\n",
    "    # pos = list(pos_word)\n",
    "    s_pos = \" \".join(pos_word)\n",
    "    Xg_pos.append(s_pos)\n",
    "    # for negative words\n",
    "    neg_word = random.choices(vocab, weights= word_prob[0], k=length[i])\n",
    "    # stich the words together to form a sentence\n",
    "    # neg = list(neg_word)\n",
    "    s_neg = \" \".join(neg_word)\n",
    "    Xg_neg.append(s_neg)\n",
    "\n",
    "yg_pos = np.ones(num_reviews_each)\n",
    "pos_df = pd.DataFrame({\"review\": Xg_pos, \"label\": yg_pos})\n",
    "yg_neg = np.zeros(num_reviews_each)\n",
    "neg_df = pd.DataFrame({\"review\": Xg_neg, \"label\": yg_neg})\n"
   ]
  },
  {
   "cell_type": "code",
   "execution_count": 15,
   "metadata": {},
   "outputs": [
    {
     "data": {
      "text/html": [
       "<div>\n",
       "<style scoped>\n",
       "    .dataframe tbody tr th:only-of-type {\n",
       "        vertical-align: middle;\n",
       "    }\n",
       "\n",
       "    .dataframe tbody tr th {\n",
       "        vertical-align: top;\n",
       "    }\n",
       "\n",
       "    .dataframe thead th {\n",
       "        text-align: right;\n",
       "    }\n",
       "</style>\n",
       "<table border=\"1\" class=\"dataframe\">\n",
       "  <thead>\n",
       "    <tr style=\"text-align: right;\">\n",
       "      <th></th>\n",
       "      <th>review</th>\n",
       "      <th>label</th>\n",
       "    </tr>\n",
       "  </thead>\n",
       "  <tbody>\n",
       "    <tr>\n",
       "      <th>0</th>\n",
       "      <td>get early never</td>\n",
       "      <td>1.0</td>\n",
       "    </tr>\n",
       "    <tr>\n",
       "      <th>1</th>\n",
       "      <td>exactly made almost</td>\n",
       "      <td>1.0</td>\n",
       "    </tr>\n",
       "    <tr>\n",
       "      <th>2</th>\n",
       "      <td>simple thoroughly humble</td>\n",
       "      <td>1.0</td>\n",
       "    </tr>\n",
       "    <tr>\n",
       "      <th>3</th>\n",
       "      <td>gets making seriously</td>\n",
       "      <td>1.0</td>\n",
       "    </tr>\n",
       "    <tr>\n",
       "      <th>4</th>\n",
       "      <td>long ending keep</td>\n",
       "      <td>1.0</td>\n",
       "    </tr>\n",
       "  </tbody>\n",
       "</table>\n",
       "</div>"
      ],
      "text/plain": [
       "                     review  label\n",
       "0           get early never    1.0\n",
       "1       exactly made almost    1.0\n",
       "2  simple thoroughly humble    1.0\n",
       "3     gets making seriously    1.0\n",
       "4          long ending keep    1.0"
      ]
     },
     "execution_count": 15,
     "metadata": {},
     "output_type": "execute_result"
    }
   ],
   "source": [
    "pos_df.head()"
   ]
  },
  {
   "cell_type": "code",
   "execution_count": 18,
   "metadata": {},
   "outputs": [
    {
     "data": {
      "text/plain": [
       "3910"
      ]
     },
     "execution_count": 18,
     "metadata": {},
     "output_type": "execute_result"
    }
   ],
   "source": [
    "# pos_df[\"review\"].str.split().len().max()\n",
    "pos_df[\"review\"].str.split().apply(len).max()"
   ]
  },
  {
   "cell_type": "code",
   "execution_count": 8,
   "metadata": {},
   "outputs": [
    {
     "data": {
      "text/plain": [
       "list"
      ]
     },
     "execution_count": 8,
     "metadata": {},
     "output_type": "execute_result"
    }
   ],
   "source": [
    "type(pos_word)"
   ]
  },
  {
   "cell_type": "code",
   "execution_count": null,
   "metadata": {},
   "outputs": [],
   "source": []
  }
 ],
 "metadata": {
  "kernelspec": {
   "display_name": "venv",
   "language": "python",
   "name": "python3"
  },
  "language_info": {
   "codemirror_mode": {
    "name": "ipython",
    "version": 3
   },
   "file_extension": ".py",
   "mimetype": "text/x-python",
   "name": "python",
   "nbconvert_exporter": "python",
   "pygments_lexer": "ipython3",
   "version": "3.8.10 (default, Nov 14 2022, 12:59:47) \n[GCC 9.4.0]"
  },
  "orig_nbformat": 4,
  "vscode": {
   "interpreter": {
    "hash": "e8ba96d35f524bf788e0a066ae8555804e9c3c2c45d7eaf088b255e4838dd8cc"
   }
  }
 },
 "nbformat": 4,
 "nbformat_minor": 2
}
