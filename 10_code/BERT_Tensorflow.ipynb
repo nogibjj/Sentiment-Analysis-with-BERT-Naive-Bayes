{
 "cells": [
  {
   "cell_type": "code",
   "execution_count": 34,
   "metadata": {},
   "outputs": [],
   "source": [
    "# !pip install transformers\n",
    "# !pip install tensorflow\n",
    "# !pip install pytorch-nlp"
   ]
  },
  {
   "cell_type": "code",
   "execution_count": 35,
   "metadata": {},
   "outputs": [],
   "source": [
    "# from transformers import BertTokenizer, TFBertForSequenceClassification\n",
    "# from transformers import InputExample, InputFeatures\n",
    "\n",
    "# model = TFBertForSequenceClassification.from_pretrained(\"bert-base-uncased\")\n",
    "# tokenizer = BertTokenizer.from_pretrained(\"bert-base-uncased\")"
   ]
  },
  {
   "cell_type": "code",
   "execution_count": 36,
   "metadata": {},
   "outputs": [],
   "source": [
    "# model.summary()"
   ]
  },
  {
   "cell_type": "code",
   "execution_count": 2,
   "metadata": {},
   "outputs": [
    {
     "ename": "ModuleNotFoundError",
     "evalue": "No module named 'pytorch_pretrained_bert'",
     "output_type": "error",
     "traceback": [
      "\u001b[0;31m---------------------------------------------------------------------------\u001b[0m",
      "\u001b[0;31mModuleNotFoundError\u001b[0m                       Traceback (most recent call last)",
      "Cell \u001b[0;32mIn [2], line 13\u001b[0m\n\u001b[1;32m     11\u001b[0m \u001b[39mimport\u001b[39;00m \u001b[39mnltk\u001b[39;00m\n\u001b[1;32m     12\u001b[0m \u001b[39mimport\u001b[39;00m \u001b[39mre\u001b[39;00m\n\u001b[0;32m---> 13\u001b[0m \u001b[39mfrom\u001b[39;00m \u001b[39mpytorch_pretrained_bert\u001b[39;00m \u001b[39mimport\u001b[39;00m BertModel\n",
      "\u001b[0;31mModuleNotFoundError\u001b[0m: No module named 'pytorch_pretrained_bert'"
     ]
    }
   ],
   "source": [
    "import tensorflow as tf\n",
    "import numpy as np\n",
    "from sklearn import metrics\n",
    "from tensorflow import keras\n",
    "from tensorflow.keras import layers\n",
    "import pandas as pd\n",
    "import seaborn as sns\n",
    "import matplotlib.pyplot as plt\n",
    "from sklearn.model_selection import train_test_split\n",
    "from nltk.corpus import stopwords\n",
    "import nltk\n",
    "import re\n",
    "from pytorch_pretrained_bert import BertModel\n",
    "\n",
    "\n"
   ]
  },
  {
   "cell_type": "code",
   "execution_count": 38,
   "metadata": {},
   "outputs": [],
   "source": [
    "class Config:\n",
    "    batch_size = 128\n",
    "    epochs = 10\n",
    "    embed_dim = 128\n",
    "    validation_split = 0.15\n",
    "    maxlen = 192\n",
    "    vocab_size = 10000\n",
    "    labels = np.array([\"neg\", \"pos\"])\n",
    "    num_classes = len(labels)\n",
    "    label_display_names = np.array([\"Negative\", \"Positive\"])\n",
    "    model_path = \"model.tf\"\n",
    "config = Config()"
   ]
  },
  {
   "cell_type": "code",
   "execution_count": 39,
   "metadata": {},
   "outputs": [
    {
     "data": {
      "text/html": [
       "<div>\n",
       "<style scoped>\n",
       "    .dataframe tbody tr th:only-of-type {\n",
       "        vertical-align: middle;\n",
       "    }\n",
       "\n",
       "    .dataframe tbody tr th {\n",
       "        vertical-align: top;\n",
       "    }\n",
       "\n",
       "    .dataframe thead th {\n",
       "        text-align: right;\n",
       "    }\n",
       "</style>\n",
       "<table border=\"1\" class=\"dataframe\">\n",
       "  <thead>\n",
       "    <tr style=\"text-align: right;\">\n",
       "      <th></th>\n",
       "      <th>Unnamed: 0</th>\n",
       "      <th>type</th>\n",
       "      <th>review</th>\n",
       "      <th>label</th>\n",
       "      <th>file</th>\n",
       "    </tr>\n",
       "  </thead>\n",
       "  <tbody>\n",
       "    <tr>\n",
       "      <th>0</th>\n",
       "      <td>0</td>\n",
       "      <td>test</td>\n",
       "      <td>Once again Mr. Costner has dragged out a movie...</td>\n",
       "      <td>neg</td>\n",
       "      <td>0_2.txt</td>\n",
       "    </tr>\n",
       "    <tr>\n",
       "      <th>1</th>\n",
       "      <td>1</td>\n",
       "      <td>test</td>\n",
       "      <td>This is an example of why the majority of acti...</td>\n",
       "      <td>neg</td>\n",
       "      <td>10000_4.txt</td>\n",
       "    </tr>\n",
       "    <tr>\n",
       "      <th>2</th>\n",
       "      <td>2</td>\n",
       "      <td>test</td>\n",
       "      <td>First of all I hate those moronic rappers, who...</td>\n",
       "      <td>neg</td>\n",
       "      <td>10001_1.txt</td>\n",
       "    </tr>\n",
       "    <tr>\n",
       "      <th>3</th>\n",
       "      <td>3</td>\n",
       "      <td>test</td>\n",
       "      <td>Not even the Beatles could write songs everyon...</td>\n",
       "      <td>neg</td>\n",
       "      <td>10002_3.txt</td>\n",
       "    </tr>\n",
       "    <tr>\n",
       "      <th>4</th>\n",
       "      <td>4</td>\n",
       "      <td>test</td>\n",
       "      <td>Brass pictures (movies is not a fitting word f...</td>\n",
       "      <td>neg</td>\n",
       "      <td>10003_3.txt</td>\n",
       "    </tr>\n",
       "    <tr>\n",
       "      <th>5</th>\n",
       "      <td>5</td>\n",
       "      <td>test</td>\n",
       "      <td>A funny thing happened to me while watching \"M...</td>\n",
       "      <td>neg</td>\n",
       "      <td>10004_2.txt</td>\n",
       "    </tr>\n",
       "    <tr>\n",
       "      <th>6</th>\n",
       "      <td>6</td>\n",
       "      <td>test</td>\n",
       "      <td>This German horror film has to be one of the w...</td>\n",
       "      <td>neg</td>\n",
       "      <td>10005_2.txt</td>\n",
       "    </tr>\n",
       "    <tr>\n",
       "      <th>7</th>\n",
       "      <td>7</td>\n",
       "      <td>test</td>\n",
       "      <td>Being a long-time fan of Japanese film, I expe...</td>\n",
       "      <td>neg</td>\n",
       "      <td>10006_2.txt</td>\n",
       "    </tr>\n",
       "    <tr>\n",
       "      <th>8</th>\n",
       "      <td>8</td>\n",
       "      <td>test</td>\n",
       "      <td>\"Tokyo Eyes\" tells of a 17 year old Japanese g...</td>\n",
       "      <td>neg</td>\n",
       "      <td>10007_4.txt</td>\n",
       "    </tr>\n",
       "    <tr>\n",
       "      <th>9</th>\n",
       "      <td>9</td>\n",
       "      <td>test</td>\n",
       "      <td>Wealthy horse ranchers in Buenos Aires have a ...</td>\n",
       "      <td>neg</td>\n",
       "      <td>10008_4.txt</td>\n",
       "    </tr>\n",
       "  </tbody>\n",
       "</table>\n",
       "</div>"
      ],
      "text/plain": [
       "   Unnamed: 0  type                                             review label  \\\n",
       "0           0  test  Once again Mr. Costner has dragged out a movie...   neg   \n",
       "1           1  test  This is an example of why the majority of acti...   neg   \n",
       "2           2  test  First of all I hate those moronic rappers, who...   neg   \n",
       "3           3  test  Not even the Beatles could write songs everyon...   neg   \n",
       "4           4  test  Brass pictures (movies is not a fitting word f...   neg   \n",
       "5           5  test  A funny thing happened to me while watching \"M...   neg   \n",
       "6           6  test  This German horror film has to be one of the w...   neg   \n",
       "7           7  test  Being a long-time fan of Japanese film, I expe...   neg   \n",
       "8           8  test  \"Tokyo Eyes\" tells of a 17 year old Japanese g...   neg   \n",
       "9           9  test  Wealthy horse ranchers in Buenos Aires have a ...   neg   \n",
       "\n",
       "          file  \n",
       "0      0_2.txt  \n",
       "1  10000_4.txt  \n",
       "2  10001_1.txt  \n",
       "3  10002_3.txt  \n",
       "4  10003_3.txt  \n",
       "5  10004_2.txt  \n",
       "6  10005_2.txt  \n",
       "7  10006_2.txt  \n",
       "8  10007_4.txt  \n",
       "9  10008_4.txt  "
      ]
     },
     "execution_count": 39,
     "metadata": {},
     "output_type": "execute_result"
    }
   ],
   "source": [
    "# load data\n",
    "data = pd.read_csv('../00_source_data/imdb_master.csv', encoding=\"unicode_escape\")\n",
    "data.head(10)"
   ]
  },
  {
   "cell_type": "code",
   "execution_count": 40,
   "metadata": {},
   "outputs": [
    {
     "data": {
      "text/plain": [
       "<AxesSubplot: >"
      ]
     },
     "execution_count": 40,
     "metadata": {},
     "output_type": "execute_result"
    },
    {
     "data": {
      "image/png": "[encoded data removed]",
      "text/plain": [
       "<Figure size 640x480 with 1 Axes>"
      ]
     },
     "metadata": {},
     "output_type": "display_data"
    }
   ],
   "source": [
    "data[\"label\"].hist()"
   ]
  },
  {
   "cell_type": "code",
   "execution_count": 41,
   "metadata": {},
   "outputs": [],
   "source": [
    "data = data[(data[\"label\"] == \"neg\") | (data[\"label\"] == \"pos\")]"
   ]
  },
  {
   "cell_type": "code",
   "execution_count": 42,
   "metadata": {},
   "outputs": [
    {
     "data": {
      "text/plain": [
       "<AxesSubplot: >"
      ]
     },
     "execution_count": 42,
     "metadata": {},
     "output_type": "execute_result"
    },
    {
     "data": {
      "image/png": "[encoded data removed]",
      "text/plain": [
       "<Figure size 640x480 with 1 Axes>"
      ]
     },
     "metadata": {},
     "output_type": "display_data"
    }
   ],
   "source": [
    "data[\"label\"].hist()"
   ]
  },
  {
   "attachments": {},
   "cell_type": "markdown",
   "metadata": {},
   "source": [
    "## Build a TextVectorization layer"
   ]
  },
  {
   "cell_type": "code",
   "execution_count": 43,
   "metadata": {},
   "outputs": [],
   "source": [
    "vectorizer = layers.TextVectorization(\n",
    "    max_tokens=config.vocab_size, \n",
    "    output_sequence_length=config.maxlen\n",
    ")\n",
    "vectorizer.adapt(data[\"review\"])"
   ]
  },
  {
   "cell_type": "code",
   "execution_count": 44,
   "metadata": {},
   "outputs": [
    {
     "data": {
      "text/plain": [
       "10000"
      ]
     },
     "execution_count": 44,
     "metadata": {},
     "output_type": "execute_result"
    }
   ],
   "source": [
    "vocab = vectorizer.get_vocabulary()\n",
    "len(vocab)"
   ]
  },
  {
   "cell_type": "code",
   "execution_count": 45,
   "metadata": {},
   "outputs": [
    {
     "data": {
      "text/plain": [
       "['', '[UNK]', 'the', 'and', 'a', 'of', 'to', 'is', 'in', 'it']"
      ]
     },
     "execution_count": 45,
     "metadata": {},
     "output_type": "execute_result"
    }
   ],
   "source": [
    "vocab[:10]"
   ]
  },
  {
   "cell_type": "code",
   "execution_count": 46,
   "metadata": {},
   "outputs": [],
   "source": [
    "# data preprocessing\n",
    "# 1. Remove the HTML tags\n",
    "# 2. Remove any punctuations or a limited set of special characters like, or . or #, etc.\n",
    "# 3. Check if the word is made up of English letters and is not alpha-numeric\n",
    "# 4. Check to see if the length of the word is greater than 2 (as it was researched that there is no adjective in 2-letters)\n",
    "# 5. Convert the word to lowercase\n",
    "# 6. Remove Stopwords (the, and, a ...)\n",
    "# 7. Finally Snowball Stemming (remove -ing, -ly, ...)\n",
    "\n",
    "# stop = set(stopwords.words('english'))\n",
    "# sno = nltk.stem.SnowballStemmer('english')\n",
    "\n",
    "# def cleanhtml(sentence):\n",
    "#     cleanr = re.compile('<.*?>')\n",
    "#     cleantext = re.sub(cleanr, ' ', sentence)\n",
    "#     return cleantext\n",
    "\n",
    "# def cleanpunc(sentence):\n",
    "#     cleaned = re.sub(r'[?|!|\\'|\"|#]', r'', sentence)\n",
    "#     cleaned = re.sub(r'[.|,|)|(|\\|/]', r' ', cleaned)\n",
    "#     return cleaned"
   ]
  },
  {
   "cell_type": "code",
   "execution_count": 47,
   "metadata": {},
   "outputs": [],
   "source": [
    "# i=0\n",
    "# str1=' '\n",
    "# final_string=[]\n",
    "# all_positive_words=[] \n",
    "# all_negative_words=[] \n",
    "# s=''\n",
    "# for sent in data['review'].values:\n",
    "#     filtered_sentence=[]\n",
    "#     sent=cleanhtml(sent) \n",
    "#     for w in sent.split():\n",
    "#         for cleaned_words in cleanpunc(w).split():\n",
    "#             if((cleaned_words.isalpha()) & (len(cleaned_words)>2)):    \n",
    "#                 if(cleaned_words.lower() not in stop):\n",
    "#                     s=(sno.stem(cleaned_words.lower())).encode('utf8')\n",
    "#                     filtered_sentence.append(s)\n",
    "#                     if (data['label'].values)[i] == \"pos\": \n",
    "#                         all_positive_words.append(s) \n",
    "#                     if(data['label'].values)[i] == \"neg\":\n",
    "#                         all_negative_words.append(s) \n",
    "#                 else:\n",
    "#                     continue\n",
    "#             else:\n",
    "#                 continue \n",
    "    \n",
    "#     str1 = b\" \".join(filtered_sentence) \n",
    "#     final_string.append(str1)\n",
    "#     i+=1"
   ]
  },
  {
   "cell_type": "code",
   "execution_count": 48,
   "metadata": {},
   "outputs": [],
   "source": [
    "# add cleaned_review column\n",
    "# data['cleaned_review'] = final_string"
   ]
  },
  {
   "cell_type": "code",
   "execution_count": 49,
   "metadata": {},
   "outputs": [],
   "source": [
    "# add score column\n",
    "# def posneg(x):\n",
    "#     if x == 'neg':\n",
    "#         return 0\n",
    "#     elif x == 'pos':\n",
    "#         return 1\n",
    "#     return x\n",
    "\n",
    "# filtered_score = data['label'].map(posneg)\n",
    "# data['score'] = filtered_score"
   ]
  },
  {
   "attachments": {},
   "cell_type": "markdown",
   "metadata": {},
   "source": [
    "## Convert labels to numerical values"
   ]
  },
  {
   "cell_type": "code",
   "execution_count": 50,
   "metadata": {},
   "outputs": [],
   "source": [
    "labels = list(Config.labels)\n",
    "data[\"label\"] = data[\"label\"].apply(lambda label: labels.index(label))"
   ]
  },
  {
   "cell_type": "code",
   "execution_count": 51,
   "metadata": {},
   "outputs": [
    {
     "data": {
      "text/html": [
       "<div>\n",
       "<style scoped>\n",
       "    .dataframe tbody tr th:only-of-type {\n",
       "        vertical-align: middle;\n",
       "    }\n",
       "\n",
       "    .dataframe tbody tr th {\n",
       "        vertical-align: top;\n",
       "    }\n",
       "\n",
       "    .dataframe thead th {\n",
       "        text-align: right;\n",
       "    }\n",
       "</style>\n",
       "<table border=\"1\" class=\"dataframe\">\n",
       "  <thead>\n",
       "    <tr style=\"text-align: right;\">\n",
       "      <th></th>\n",
       "      <th>Unnamed: 0</th>\n",
       "      <th>type</th>\n",
       "      <th>review</th>\n",
       "      <th>label</th>\n",
       "      <th>file</th>\n",
       "    </tr>\n",
       "  </thead>\n",
       "  <tbody>\n",
       "    <tr>\n",
       "      <th>0</th>\n",
       "      <td>0</td>\n",
       "      <td>test</td>\n",
       "      <td>Once again Mr. Costner has dragged out a movie...</td>\n",
       "      <td>0</td>\n",
       "      <td>0_2.txt</td>\n",
       "    </tr>\n",
       "    <tr>\n",
       "      <th>1</th>\n",
       "      <td>1</td>\n",
       "      <td>test</td>\n",
       "      <td>This is an example of why the majority of acti...</td>\n",
       "      <td>0</td>\n",
       "      <td>10000_4.txt</td>\n",
       "    </tr>\n",
       "    <tr>\n",
       "      <th>2</th>\n",
       "      <td>2</td>\n",
       "      <td>test</td>\n",
       "      <td>First of all I hate those moronic rappers, who...</td>\n",
       "      <td>0</td>\n",
       "      <td>10001_1.txt</td>\n",
       "    </tr>\n",
       "    <tr>\n",
       "      <th>3</th>\n",
       "      <td>3</td>\n",
       "      <td>test</td>\n",
       "      <td>Not even the Beatles could write songs everyon...</td>\n",
       "      <td>0</td>\n",
       "      <td>10002_3.txt</td>\n",
       "    </tr>\n",
       "    <tr>\n",
       "      <th>4</th>\n",
       "      <td>4</td>\n",
       "      <td>test</td>\n",
       "      <td>Brass pictures (movies is not a fitting word f...</td>\n",
       "      <td>0</td>\n",
       "      <td>10003_3.txt</td>\n",
       "    </tr>\n",
       "  </tbody>\n",
       "</table>\n",
       "</div>"
      ],
      "text/plain": [
       "   Unnamed: 0  type                                             review  label  \\\n",
       "0           0  test  Once again Mr. Costner has dragged out a movie...      0   \n",
       "1           1  test  This is an example of why the majority of acti...      0   \n",
       "2           2  test  First of all I hate those moronic rappers, who...      0   \n",
       "3           3  test  Not even the Beatles could write songs everyon...      0   \n",
       "4           4  test  Brass pictures (movies is not a fitting word f...      0   \n",
       "\n",
       "          file  \n",
       "0      0_2.txt  \n",
       "1  10000_4.txt  \n",
       "2  10001_1.txt  \n",
       "3  10002_3.txt  \n",
       "4  10003_3.txt  "
      ]
     },
     "execution_count": 51,
     "metadata": {},
     "output_type": "execute_result"
    }
   ],
   "source": [
    "data.head(5)"
   ]
  },
  {
   "cell_type": "code",
   "execution_count": 52,
   "metadata": {},
   "outputs": [
    {
     "name": "stdout",
     "output_type": "stream",
     "text": [
      "[\"2 stars for Kay Francis -- she's wonderful! And she didn't deserve this horrible tripe that Warner Bros. threw her way! <br /><br />The two-pronged premise that this movie is based on is ridiculous and unbelievable in the extreme. Kay is a small-town wife and mother who yearns for something bigger: she wants to be an actress. When a big-shot actor comes to town and invites Kay to his hotel to talk about possibilities, Kay tells her husband she's going to the movies. The hubby's biddy of a mother puts a bug in hubby's ear that Kay's not being truthful, and he sets out looking for her. He finds her w/ the actor in the hotel (they are only talking!) and he slugs the guy, who falls over a railing, lands face-first in a pond (lake?), and dies. Now here's the two unbelievable premises upon which the rest of the movie is based: <br /><br />1) the judge tells the jury that if it's determined that the man died *before* his head went into the water, that they must find the hubby guilty of first degree murder. (Whaaaaa?????? I think slugging a guy in a fit of rage would count for manslaughter or murder 2 at the most, not FIRST DEGREE murder. Give me a break! But the plot required him being found guilty of murder 1 so that he could be sent to prison for life. Whatever.) <br /><br />2) the hubby's lawyer, after the conviction and sentencing, tells Kay that it's all HER fault. His reasoning is that if she hadn't gone over to the actor's room, then her husband wouldn't have had to go after her and slug the guy and kill him. He tells her that she's the guilty one, not her husband, and she nods and agrees. What. The. Hell?!?!?! The rest of the movie is all about Kay trying to achieve fame and money in order to get her husband released from prison and right the wrong she committed by causing him to kill the actor dude in the first place.<br /><br />I can't even go on with this review. The movie was just all too painful. Four years earlier, in the pre-code days, you'd never have caught Kay playing such a wimp! In true Kay Francis fashion, though, she did do her best to make us believe that this woman was a believable character. I give her much credit for trying to breathe some life and credibility to this thankless role. This character was a far cry from pre-code Kay roles and real-life spitfire Kay Francis.<br /><br />Steer way clear of this one! There are much better Kay Francis vehicles out there! (From personal experience, I can highly recommend Mary Stevens, MD and Jewel Robbery; also good are Dr. Monica and One Way Passage. I'm sure there's other great Kay flicks as well, but I'm only mentioning the ones I've seen and can recommend.)\", 'Bob Clampett\\'s \\'The Hep Cat\\' is a distinctly average cartoon only really notable for the fact that it was the first colour Looney Tune (previously Looney Tunes were all black and white while Merrie Melodies were in colour). The tale of a singing, dancing cat\\'s attempts to woo a lady cat and a dog\\'s attempts to catch the cat, \\'The Hep Cat\\' lacks the trademark energy and pace of most Clampett shorts. To be fair, Clampett doesn\\'t have a great deal to work with. Warren Foster\\'s script is embarrassingly thin and, while he has spun straw into gold with other cartoons, Clampett doesn\\'t manage it with \\'The Hep Cat\\'. It\\'s often said of Clampett that you can\\'t mistake his cartoons for anyone else\\'s and it\\'s generally true but \\'The Hep Cat\\' is an exception. There\\'s flashes of Clampett genius, such as the chase scene in which the cat stops to ask the dog \"Hey, are you following me\". When the dog confirms that he is, the cat simply says \"Oh\" and the chase immediately resumes. Unfortunately, there\\'s very little of such brilliance on show here. Knowing who directed it, \\'The Hep Cat\\' is a bitter disappointment. We all have off days and this was clearly one of Clampett\\'s!', \"Mexican Werewolf in Texas is set in the small border town of Furlough where Anna (Erika Fay) lives, her best friend is Rosie (Martine Hughes) & she has a Mexican boyfriend named Miguel (Gabriel Gutierrez) who are determined to track a beast down that has been terrorising the town, killing livestock & several residents including some of their friends. Local Mexican legends speak of the Chupacabra, an evil creature from myth & legend. Erm, I'm struggling now because not that much else actually happens...<br /><br />Written & directed by Scott Maginnis I won't beat about the bush here & simply say that Mexican Werewolf in Texas is awful, period. The script only ever mentions the word Werewolf once & the rest of the time it's referred to a Chupacabra, in fact I suspect this wasn't really conceived as a Werewolf flick at all. The 'Werewolf' creature looks mostly hairless & more like some vicious dog, there is no reference to anybody changing during the full moon & it actually attacks during the day on a couple of occasions, there is no transformation scene & at the end when it is killed it doesn't change back into anyone either. To be honest apart from the title there's nothing here to indicate a Werewolf film at all & even then the title is just a rip-off of the highly popular An American Werewolf in London (1981). This is the type of home made crap that I personally think is killing the horror genre, how long has it been since there was a true low budget horror classic like Dawn of the Dead (1978), The Evil Dead (1981), Halloween (1978) or Friday the 13th (1980) which were all made on shoe string budgets, maybe The Blair Witch Project (1999) but that's it in recent years & crap like Mexican Werewolf in Texas has absolutely no chance of ever being considered a classic. The character's are awful & things just happen around them, the dialogue is rubbish, the pacing is terrible, the story sucks & virtually sent me to sleep & as a whole this film is just crap, I'm sorry but I don't know how else to describe it.<br /><br />Director Maginnis does nothing to make this watchable, there's the annoying hand held camera type cinematography which could easily give someone a headache & quick 'blink & you'll miss something' editing which just annoys & irritates in equal measure. It's not scary, there's no nudity, there's no tension or atmosphere & the special effects are awful. The monster really does look poor & it's no wonder Maginnis keeps it in the shadows or cuts his scenes so quickly you never get a good look at it. There's virtually no colour to the picture either, it's either almost pitch black or over saturated desert sand oranges which makes the thing an eye sore as well. The gore consists of some fake guts (blink & you'll miss them!), a few bloody wounds & a severed arm, big deal.<br /><br />With a supposed budget of about $300,000 I admit the budget was low but I simply refuse to accept that for making such a rubbish film, there are plenty of low budget horror flicks that make their meagre budgets go far. The whole thing has the look of a home movie, it has no style & is throughly bland & dull to look at. The acting sucks too although you probably already knew that.<br /><br />Mexican Werewolf in Texas will probably con a few people into renting/buying/watching it because they might mistakenly think it's a sequel to John Landis' classic which it most certainly isn't & it isn't even a proper Werewolf flick either. Don't be fooled this is awful & I'm fed up of having to waste time/money on home made amateur crap like this.\", \"Sogo Ishii has taken the old myth of Musashibo Benkei and stood it on its head to produce a dark, gory, spellbinding and terrific-looking movie. Those unfamiliar with the legend won't need to be; the story explains itself nicely as it goes along. Well worth seeking out even though there are no English-language home video versions.\", 'If like me, you enjoyed the first film \"Bruce Almighty\", my advice to you is not to get your hopes up too high; in fact disregard any hope you possess for this movie if you are above the age of 12 and have any film-sense at all.<br /><br />Without giving too much away, the story sees Evan (Bruce\\'s nemesis co-anchor from the first film) move home with his family to the Virginian suburbs to \"Change the World\" with a new political path. What follows is a rather far-fetched and quite \\'silly\\' storyline, which is obviously set out to target young children as the main target audience. Unlike it\\'s predecessor, Evan Almighty is a family orientated film with the ambiguous genre of \\'comedy\\' tagged upon it\\'s misleading position of \\'sequel\\' to which some would regard a modern-day comedy classic that can be enjoyed by a slightly more mature, upscale audience.<br /><br />Generally speaking, Evan Almighty comprises itself of terrible cinematic values. The acting; omit Steve Carell and Morgan Freeman, was rigid and many of the characters were seemingly thrown in to use up the unnecessarily large budget issued for the production. Additionally, the cast includes acting legend John Goodman who makes an appearance as a heel and is seen just a few times in the movie\\'s entirety; I didn\\'t quite buy the character though and thought the storyline from which he was involved in lacked depth even for a family comedy. Every other character in the movie (especially the wife and kids!) deserve a mention for their acting so cheesy it could fill a king-size Kiev. Be warned though; it is the typical Americanized cheddarfest associated with many mainstream family-orientated films, so I\\'d advise you defend yourself with the nearest grater in sight.<br /><br />It may seem the movie is worthless thus-far, however, it does have -some- promising aspects. The CGI was outstanding and it was clear that a lot of time went into modelling the Ark and producing water effects and animation of the computer generated animals towards the end. The particles, renders and textures used were aesthetically stellar. Although part of me couldn\\'t help, but think these were undeserving to a movie with such poor ideals and were, in my opinion, \\'too good\\' for this piece of cinema and carried the movie throughout.<br /><br />Overall I view this film as a disaster in terms of continuing what was a franchise with huge potential, but unfortunately it fell short to a bad conclusion in the Almighty series and approaching the end of the film I had set my expectations high for an epic and somehow meaningful finale to make up for the mediocre content I had so far witnessed. This wasn\\'t the case and I was deeply disappointed and confused come the closing credits. As I sat discontent I couldn\\'t help, but think the movie wasn\\'t anywhere near as \\'Mighty\\' as I hoped for. In many ways the film reminded me of a watered down \"Night at the Museum\" as it showed similar styling and characteristics, but unfortunately was leagues below even that.<br /><br />I give this movie 3 out of 10, as it is watchable, but it\\'s definitely one to be avoided! If you HAVE to see this film, be prepared for disappointment as \\'mildly entertained\\' is the best you could hope to obtain in watching the said production.', \"This movie maybe really bad, but it is alot of fun. The bad acting and poor direction enhance the film's hystericalness. The twins are very funny in their Conanesque roles. If you go into this film expecting the first Conan or Excalibur, than you will hate it. If you watch it while in a good mood and accept it as good, dumb fun you will have a good time. Watch for the scene where they try to hang the brothers, its funniest scene in the film. I wish Mystery Science Theatre 3000 would have done this!!\", 'And a few more \"no\"s on top of that. Voodoo Academy is, without a doubt, the least ambitious film of all time. What exactly is it trying to do? Tell a story? Obviously not; as has been pointed out, most of it\\'s just barely-legal guys rubbing themselves. Could it, then, be an attempt at subversive homoeroticism? Well, maybe, if not for the fact it never ever ever goes beyond the most innocuous and nonthreatening forms of male contact. (Which is, to the delight of none, repeated about eighty thousand times.) Well, it is sort of a horror movie; is it trying to scare us? Not unless the director meant to do so through the utter tedium and vacuousness of his \"work.\"<br /><br />Never in my life have I enjoyed a movie less. This is the most boring and unnecessary thing I\\'ve ever seen. It\\'s like Voodoo Academy takes the genres of horror, zombie, and gay movies, puts them in a grinder, then runs them through a coffee filter--only instead of it being the kind of coffee filter that filters out coffee beans, it\\'s the kind that takes out everything vital, edgy, or in any way interesting. The result is 74 minutes of film every bit as exciting as a glass of warm water--only without the ability to rehydrate you after the 10-day gin binge that will inevitably befall you if you watch this abomination of human effort.', \"I saw this drama by cable TV. Although I saw just two series, I love this drama. I'm waiting for more series will be aired by cable.<br /><br />Even though it describes horrible, absurd situation in a prisoner's camp, this one shows us an indomitable spirit, warmth, friendship and humanity. They don't know whether they can survive or not, but kept their hope strongly without being discouraged by adversity.<br /><br />I know this movie is not realistic like other war documentary, but I don't want to blame for it. It makes me believe the strong will of people in the most difficult situation. <br /><br />'Private Bill' , especially, this episode touched deep in my heart.<br /><br />I remember every scene. I always hate mathematics. But after seeing this drama, I can understand something about mathematics... Mathematics is his connection between past and present, also symbolizes eternity.<br /><br />'Time, light and memory framed in a circle.'<br /><br />Like other victims of war, he lost his lover by irresistible fate. I'm immersed in his time and memory as if I experienced same thing.<br /><br />He experienced the great loss but he has pure passion of study.<br /><br />He started his study in the camp, his joy of realize,<br /><br />I believe his dedication of study sustained him.<br /><br />I saw it several times, but the meaning of this film never faded. Every time I saw it, I feel same deep emotion.<br /><br />* Their songs are beautiful, harmonious,<br /><br />I'm sorry that I can't listen OST.\", 'Although inevitably linked to the 70\\'s decade, the concept of \"exploitation-cinema\" is actually nearly as old as cinema itself. Moreover, Universal Studios practically invented the term with their long running monster cycles Dracula, Frankenstein, The Wolf Man and The Mummy. Every original classic spawned a couple of sequels, at least, and after a while they even thought up the idea of making genuine monster stewing! \"House of Frankenstein\", released one year earlier and also directed by Erle C. Kenton, was quite a successful effort with interesting ideas and enthusiast performances, but \"House of Dracula\" is a little too loony for me to recommend it. The plot suffers too much from extremely irritating \\'coincidental\\' situations, forced twists & dialogs and Â? most of all Â? a far too short running time to elaborate the monsters\\' personalities like they deserve. Onslow Stevens doesn\\'t receive top billing but plays the most fundamental role as miracle a doctor who\\'s challenged to cure Count Dracula (Carradine) from his incontrollable thirst for blood and fix Lawrence Talbot\\'s illness of mutating into a hairy Wolf Man whenever the moon is full. During a nightly walk in some caves, they also pick up the remainders of Frankenstein\\'s monster and the good doctor himself eventually undergoes a Jekyll/Hyde metamorphosis due to a bad blood transfusion. The last invitation to the messy party is a female hunchback (though not of the Notre Dame). Something is very wrong when you\\'re watching a movie that is literally stuffed with horror icons, yet the only character in the whole movie that is able to freak you out is an ordinary villager going by the name Siegfried. The actual monsters are dull and their once-fabulous backgrounds are fully drained. Count Dracula is a whining romanticist, Talbot is a pitiable and also whining old martyr and the Frankenstein creation Â? well, his share in the plot isn\\'t even worth mentioning. There\\'s a serious lack of atmospheric settings and nifty photography in this Universal film, especially compared to all their other efforts, and the abrupt climax is a disaster.', 'If the scale went negative I would be happier. Seeing Sushmita Sen was nice, and Nisha Kothari has a bright future but the producer and the director ruined any and all enjoyment in this story. The choice of angles, choice of lighting and well everything distracted from trying to remember what is the story. Oh, if the songs and dances haven\\'t caused you to rip your ears off your head, first. The film could have been made twice at 1.25 hours, and been pretty good, kinda like \"Seven Samurai\" but the director and writer didn\\'t go that direction, even if the \"townsfolk\" finally find their backbone and want to help. This movie fails on so many levels: editing, writing, photography angles, style, lighting, script - name any aspect of this film - it was BAD - probably the food from the caterer was bad too. I have never in 6 years of watching Indian (Bollywood) movies seen something this badly made.']\n"
     ]
    }
   ],
   "source": [
    "sentences = list(data.iloc[np.random.choice(data.shape[0], 10)][\"review\"])\n",
    "print(sentences)"
   ]
  },
  {
   "cell_type": "code",
   "execution_count": 53,
   "metadata": {},
   "outputs": [
    {
     "data": {
      "text/plain": [
       "<tf.Tensor: shape=(10, 192), dtype=int64, numpy=\n",
       "array([[ 284,  414,   17, ...,    1,    4,  220],\n",
       "       [1850,    1,    2, ...,    2,    1, 1230],\n",
       "       [2565, 2329,    8, ...,    6,   27, 1163],\n",
       "       ...,\n",
       "       [  10,  202,   11, ...,   45, 1027, 1615],\n",
       "       [ 254, 5186, 6208, ...,    1,   35,   81],\n",
       "       [  44,    2, 2530, ...,    0,    0,    0]])>"
      ]
     },
     "execution_count": 53,
     "metadata": {},
     "output_type": "execute_result"
    }
   ],
   "source": [
    "vectorizer(sentences)"
   ]
  },
  {
   "attachments": {},
   "cell_type": "markdown",
   "metadata": {},
   "source": [
    "### Train test split"
   ]
  },
  {
   "cell_type": "code",
   "execution_count": 54,
   "metadata": {},
   "outputs": [
    {
     "data": {
      "text/plain": [
       "((42500, 5), (7500, 5))"
      ]
     },
     "execution_count": 54,
     "metadata": {},
     "output_type": "execute_result"
    }
   ],
   "source": [
    "# divide data into train and test\n",
    "train, test = train_test_split(data, shuffle=True, test_size=config.validation_split, random_state=42)\n",
    "train.shape, test.shape"
   ]
  },
  {
   "cell_type": "code",
   "execution_count": 55,
   "metadata": {},
   "outputs": [],
   "source": [
    "train_ds = tf.data.Dataset.from_tensor_slices((train[\"review\"], train[\"label\"])).batch(config.batch_size)\n",
    "train_ds = train_ds.shuffle(256).take(train.shape[0] // config.batch_size).cache().repeat(1).prefetch(16)"
   ]
  },
  {
   "cell_type": "code",
   "execution_count": 56,
   "metadata": {},
   "outputs": [],
   "source": [
    "test_ds = tf.data.Dataset.from_tensor_slices((test[\"review\"], test[\"label\"])).batch(config.batch_size)\n",
    "test_ds = test_ds.take(test.shape[0] // config.batch_size).cache().repeat(1).prefetch(16)"
   ]
  },
  {
   "cell_type": "code",
   "execution_count": 57,
   "metadata": {},
   "outputs": [
    {
     "name": "stdout",
     "output_type": "stream",
     "text": [
      "(128,) (128,)\n",
      "tf.Tensor(\n",
      "[b'This movie was horrible, simply put. It was so bad I registered with IMDb to warn you of its dangers.<br /><br />I am a campy horror film expert, per se. I have watched \"Redneck Zombies\", \"House of the Psychotic Women\", \"Slumber Party Massacre II\" and many others. I know my schlock. And I know this movie sucks.<br /><br />Three fourths of the film is comprised of scared individuals running from one side of the screen to the other. When they are not running, they are spouting non-sequitur lines, devoid of emotion or motivation. When the actors begin to be acceptable, the direction falls to pieces. There were so many jarring low-angle shots; I figured Leif Jonker had a 3 foot tall tripod. He used what I call the \"Leif Maneuver\" several millions times: that is, zooming out from an object of interest like an amateur. Apparently the film crew couldn\\'t get up early enough to film a sunrise, so they filmed a sunset... and played it in reverse. With direction this lazy, you are actually impressed with the final gory scene. The only thing you can figure is that the last five minutes was filmed before the first eighty-five minutes.<br /><br />If you want a good (bad) gory movie, rent \"Riki-Oh\" or the foundational \"Dead Alive.\" If you are a schlock buff, and are looking for a challenge, give \"Darkness\" a go.<br /><br />Quote o\\' the movie-<br /><br />Vampire: It\\'s die time!'\n",
      " b\"what a great little film, lots of good roles from some random stars. Basically there are these pot growers that get caught up in a comical adventure. At points the film makes you believe everyone is going to end up dead! Which adds to the comedy. When the character of John Lithgow (3rd Rock) re-appears - its impossible not to imagine the trip, this may have caused, like a total paradox. The film is full of twists and turns that keep you guessing all the way to the end. Billy Bob Thornton Astronaut Farmer) is brilliant, in fact looking back, the character is fairly similar in the fact he holds the family of pot growers together. Everyone involved in this film should get a big thumbs up.<br /><br />As i say' the final scene is a dream; however a nightmare at the same time. I love it when Hank Azaria (carter) says at the end do you think we should do this every year? I felt my self wishing they would. <br /><br />I'm not going to say this film is good for everyone, but as a lover of stoner movies i give it 10/10. - My advice have a joint ready; kick back and enjoy!\"], shape=(2,), dtype=string)\n",
      "tf.Tensor([0 1], shape=(2,), dtype=int64)\n"
     ]
    },
    {
     "name": "stderr",
     "output_type": "stream",
     "text": [
      "2022-12-10 18:36:22.923068: W tensorflow/core/kernels/data/cache_dataset_ops.cc:856] The calling iterator did not fully read the dataset being cached. In order to avoid unexpected truncation of the dataset, the partially cached contents of the dataset  will be discarded. This can happen if you have an input pipeline similar to `dataset.cache().take(k).repeat()`. You should use `dataset.take(k).cache().repeat()` instead.\n"
     ]
    }
   ],
   "source": [
    "for x, y in train_ds.take(1):\n",
    "    print(x.shape, y.shape)\n",
    "    print(x[:2])\n",
    "    print(y[:2])"
   ]
  },
  {
   "attachments": {},
   "cell_type": "markdown",
   "metadata": {},
   "source": [
    "## MODEL"
   ]
  },
  {
   "cell_type": "code",
   "execution_count": 1,
   "metadata": {},
   "outputs": [
    {
     "ename": "NameError",
     "evalue": "name 'BertTokenizer' is not defined",
     "output_type": "error",
     "traceback": [
      "\u001b[0;31m---------------------------------------------------------------------------\u001b[0m",
      "\u001b[0;31mNameError\u001b[0m                                 Traceback (most recent call last)",
      "Cell \u001b[0;32mIn [1], line 1\u001b[0m\n\u001b[0;32m----> 1\u001b[0m tokenizer \u001b[39m=\u001b[39m BertTokenizer\u001b[39m.\u001b[39mfrom_pretrained(\u001b[39m'\u001b[39m\u001b[39mbert-base-uncased\u001b[39m\u001b[39m'\u001b[39m, do_lower_case\u001b[39m=\u001b[39m\u001b[39mTrue\u001b[39;00m)\n",
      "\u001b[0;31mNameError\u001b[0m: name 'BertTokenizer' is not defined"
     ]
    }
   ],
   "source": [
    "tokenizer = BertTokenizer.from_pretrained('bert-base-uncased', do_lower_case=True)"
   ]
  },
  {
   "cell_type": "code",
   "execution_count": 58,
   "metadata": {},
   "outputs": [],
   "source": [
    "def get_model():\n",
    "    model = keras.Sequential([\n",
    "        layers.Input((None, ), dtype=\"string\"),\n",
    "        vectorizer,\n",
    "        layers.Embedding(config.vocab_size, config.embed_dim, mask_zero=True),\n",
    "        layers.Bidirectional(layers.LSTM(32, return_sequences=True)),\n",
    "        layers.LSTM(32),\n",
    "        layers.GaussianDropout(0.5),\n",
    "        layers.Dense(config.num_classes, activation=\"softmax\")\n",
    "    ])\n",
    "    model.compile(loss=\"sparse_categorical_crossentropy\", optimizer=\"adam\", metrics=[\"accuracy\"])\n",
    "    return model"
   ]
  },
  {
   "cell_type": "code",
   "execution_count": 59,
   "metadata": {},
   "outputs": [
    {
     "ename": "ValueError",
     "evalue": "Exception encountered when calling layer \"text_vectorization_1\" (type TextVectorization).\n\nWhen using `TextVectorization` to tokenize strings, the input rank must be 1 or the last shape dimension must be 1. Received: inputs.shape=(None, None) with rank=2\n\nCall arguments received by layer \"text_vectorization_1\" (type TextVectorization):\n  • inputs=tf.Tensor(shape=(None, None), dtype=string)",
     "output_type": "error",
     "traceback": [
      "\u001b[0;31m---------------------------------------------------------------------------\u001b[0m",
      "\u001b[0;31mValueError\u001b[0m                                Traceback (most recent call last)",
      "Cell \u001b[0;32mIn [59], line 1\u001b[0m\n\u001b[0;32m----> 1\u001b[0m model \u001b[39m=\u001b[39m get_model()\n",
      "Cell \u001b[0;32mIn [58], line 2\u001b[0m, in \u001b[0;36mget_model\u001b[0;34m()\u001b[0m\n\u001b[1;32m      1\u001b[0m \u001b[39mdef\u001b[39;00m \u001b[39mget_model\u001b[39m():\n\u001b[0;32m----> 2\u001b[0m     model \u001b[39m=\u001b[39m keras\u001b[39m.\u001b[39;49mSequential([\n\u001b[1;32m      3\u001b[0m         layers\u001b[39m.\u001b[39;49mInput((\u001b[39mNone\u001b[39;49;00m, ), dtype\u001b[39m=\u001b[39;49m\u001b[39m\"\u001b[39;49m\u001b[39mstring\u001b[39;49m\u001b[39m\"\u001b[39;49m),\n\u001b[1;32m      4\u001b[0m         vectorizer,\n\u001b[1;32m      5\u001b[0m         layers\u001b[39m.\u001b[39;49mEmbedding(config\u001b[39m.\u001b[39;49mvocab_size, config\u001b[39m.\u001b[39;49membed_dim, mask_zero\u001b[39m=\u001b[39;49m\u001b[39mTrue\u001b[39;49;00m),\n\u001b[1;32m      6\u001b[0m         layers\u001b[39m.\u001b[39;49mBidirectional(layers\u001b[39m.\u001b[39;49mLSTM(\u001b[39m32\u001b[39;49m, return_sequences\u001b[39m=\u001b[39;49m\u001b[39mTrue\u001b[39;49;00m)),\n\u001b[1;32m      7\u001b[0m         layers\u001b[39m.\u001b[39;49mLSTM(\u001b[39m32\u001b[39;49m),\n\u001b[1;32m      8\u001b[0m         layers\u001b[39m.\u001b[39;49mGaussianDropout(\u001b[39m0.5\u001b[39;49m),\n\u001b[1;32m      9\u001b[0m         layers\u001b[39m.\u001b[39;49mDense(config\u001b[39m.\u001b[39;49mnum_classes, activation\u001b[39m=\u001b[39;49m\u001b[39m\"\u001b[39;49m\u001b[39msoftmax\u001b[39;49m\u001b[39m\"\u001b[39;49m)\n\u001b[1;32m     10\u001b[0m     ])\n\u001b[1;32m     11\u001b[0m     model\u001b[39m.\u001b[39mcompile(loss\u001b[39m=\u001b[39m\u001b[39m\"\u001b[39m\u001b[39msparse_categorical_crossentropy\u001b[39m\u001b[39m\"\u001b[39m, optimizer\u001b[39m=\u001b[39m\u001b[39m\"\u001b[39m\u001b[39madam\u001b[39m\u001b[39m\"\u001b[39m, metrics\u001b[39m=\u001b[39m[\u001b[39m\"\u001b[39m\u001b[39maccuracy\u001b[39m\u001b[39m\"\u001b[39m])\n\u001b[1;32m     12\u001b[0m     \u001b[39mreturn\u001b[39;00m model\n",
      "File \u001b[0;32m~/opt/miniconda3/lib/python3.10/site-packages/tensorflow/python/trackable/base.py:205\u001b[0m, in \u001b[0;36mno_automatic_dependency_tracking.<locals>._method_wrapper\u001b[0;34m(self, *args, **kwargs)\u001b[0m\n\u001b[1;32m    203\u001b[0m \u001b[39mself\u001b[39m\u001b[39m.\u001b[39m_self_setattr_tracking \u001b[39m=\u001b[39m \u001b[39mFalse\u001b[39;00m  \u001b[39m# pylint: disable=protected-access\u001b[39;00m\n\u001b[1;32m    204\u001b[0m \u001b[39mtry\u001b[39;00m:\n\u001b[0;32m--> 205\u001b[0m   result \u001b[39m=\u001b[39m method(\u001b[39mself\u001b[39;49m, \u001b[39m*\u001b[39;49margs, \u001b[39m*\u001b[39;49m\u001b[39m*\u001b[39;49mkwargs)\n\u001b[1;32m    206\u001b[0m \u001b[39mfinally\u001b[39;00m:\n\u001b[1;32m    207\u001b[0m   \u001b[39mself\u001b[39m\u001b[39m.\u001b[39m_self_setattr_tracking \u001b[39m=\u001b[39m previous_value  \u001b[39m# pylint: disable=protected-access\u001b[39;00m\n",
      "File \u001b[0;32m~/opt/miniconda3/lib/python3.10/site-packages/keras/utils/traceback_utils.py:70\u001b[0m, in \u001b[0;36mfilter_traceback.<locals>.error_handler\u001b[0;34m(*args, **kwargs)\u001b[0m\n\u001b[1;32m     67\u001b[0m     filtered_tb \u001b[39m=\u001b[39m _process_traceback_frames(e\u001b[39m.\u001b[39m__traceback__)\n\u001b[1;32m     68\u001b[0m     \u001b[39m# To get the full stack trace, call:\u001b[39;00m\n\u001b[1;32m     69\u001b[0m     \u001b[39m# `tf.debugging.disable_traceback_filtering()`\u001b[39;00m\n\u001b[0;32m---> 70\u001b[0m     \u001b[39mraise\u001b[39;00m e\u001b[39m.\u001b[39mwith_traceback(filtered_tb) \u001b[39mfrom\u001b[39;00m \u001b[39mNone\u001b[39m\n\u001b[1;32m     71\u001b[0m \u001b[39mfinally\u001b[39;00m:\n\u001b[1;32m     72\u001b[0m     \u001b[39mdel\u001b[39;00m filtered_tb\n",
      "File \u001b[0;32m~/opt/miniconda3/lib/python3.10/site-packages/keras/layers/preprocessing/text_vectorization.py:564\u001b[0m, in \u001b[0;36mTextVectorization._preprocess\u001b[0;34m(self, inputs)\u001b[0m\n\u001b[1;32m    562\u001b[0m \u001b[39mif\u001b[39;00m inputs\u001b[39m.\u001b[39mshape\u001b[39m.\u001b[39mrank \u001b[39m>\u001b[39m \u001b[39m1\u001b[39m:\n\u001b[1;32m    563\u001b[0m     \u001b[39mif\u001b[39;00m inputs\u001b[39m.\u001b[39mshape[\u001b[39m-\u001b[39m\u001b[39m1\u001b[39m] \u001b[39m!=\u001b[39m \u001b[39m1\u001b[39m:\n\u001b[0;32m--> 564\u001b[0m         \u001b[39mraise\u001b[39;00m \u001b[39mValueError\u001b[39;00m(\n\u001b[1;32m    565\u001b[0m             \u001b[39m\"\u001b[39m\u001b[39mWhen using `TextVectorization` to tokenize strings, \u001b[39m\u001b[39m\"\u001b[39m\n\u001b[1;32m    566\u001b[0m             \u001b[39m\"\u001b[39m\u001b[39mthe input rank must be 1 or the last shape dimension \u001b[39m\u001b[39m\"\u001b[39m\n\u001b[1;32m    567\u001b[0m             \u001b[39mf\u001b[39m\u001b[39m\"\u001b[39m\u001b[39mmust be 1. Received: inputs.shape=\u001b[39m\u001b[39m{\u001b[39;00minputs\u001b[39m.\u001b[39mshape\u001b[39m}\u001b[39;00m\u001b[39m \u001b[39m\u001b[39m\"\u001b[39m\n\u001b[1;32m    568\u001b[0m             \u001b[39mf\u001b[39m\u001b[39m\"\u001b[39m\u001b[39mwith rank=\u001b[39m\u001b[39m{\u001b[39;00minputs\u001b[39m.\u001b[39mshape\u001b[39m.\u001b[39mrank\u001b[39m}\u001b[39;00m\u001b[39m\"\u001b[39m\n\u001b[1;32m    569\u001b[0m         )\n\u001b[1;32m    570\u001b[0m     \u001b[39melse\u001b[39;00m:\n\u001b[1;32m    571\u001b[0m         inputs \u001b[39m=\u001b[39m tf\u001b[39m.\u001b[39msqueeze(inputs, axis\u001b[39m=\u001b[39m\u001b[39m-\u001b[39m\u001b[39m1\u001b[39m)\n",
      "\u001b[0;31mValueError\u001b[0m: Exception encountered when calling layer \"text_vectorization_1\" (type TextVectorization).\n\nWhen using `TextVectorization` to tokenize strings, the input rank must be 1 or the last shape dimension must be 1. Received: inputs.shape=(None, None) with rank=2\n\nCall arguments received by layer \"text_vectorization_1\" (type TextVectorization):\n  • inputs=tf.Tensor(shape=(None, None), dtype=string)"
     ]
    }
   ],
   "source": [
    "model = get_model()"
   ]
  },
  {
   "cell_type": "code",
   "execution_count": null,
   "metadata": {},
   "outputs": [
    {
     "ename": "NameError",
     "evalue": "name 'model' is not defined",
     "output_type": "error",
     "traceback": [
      "\u001b[0;31m---------------------------------------------------------------------------\u001b[0m",
      "\u001b[0;31mNameError\u001b[0m                                 Traceback (most recent call last)",
      "Cell \u001b[0;32mIn [30], line 1\u001b[0m\n\u001b[0;32m----> 1\u001b[0m model\u001b[39m.\u001b[39msummary()\n",
      "\u001b[0;31mNameError\u001b[0m: name 'model' is not defined"
     ]
    }
   ],
   "source": [
    "model.summary()"
   ]
  },
  {
   "cell_type": "code",
   "execution_count": null,
   "metadata": {},
   "outputs": [],
   "source": []
  }
 ],
 "metadata": {
  "kernelspec": {
   "display_name": "Python 3.10.6 ('base')",
   "language": "python",
   "name": "python3"
  },
  "language_info": {
   "codemirror_mode": {
    "name": "ipython",
    "version": 3
   },
   "file_extension": ".py",
   "mimetype": "text/x-python",
   "name": "python",
   "nbconvert_exporter": "python",
   "pygments_lexer": "ipython3",
   "version": "3.10.6 | packaged by conda-forge | (main, Aug 22 2022, 20:41:22) [Clang 13.0.1 ]"
  },
  "orig_nbformat": 4,
  "vscode": {
   "interpreter": {
    "hash": "84b9370629bc80826ce6aeb009e770dfe4ed6af6eef03d00ae361c57df430492"
   }
  }
 },
 "nbformat": 4,
 "nbformat_minor": 2
}
